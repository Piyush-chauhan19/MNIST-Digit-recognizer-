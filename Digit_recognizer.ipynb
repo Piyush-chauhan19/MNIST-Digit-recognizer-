{
 "cells": [
  {
   "cell_type": "code",
   "execution_count": 1,
   "id": "d3765851-8931-45ef-aa83-ae75e32644b6",
   "metadata": {},
   "outputs": [
    {
     "name": "stderr",
     "output_type": "stream",
     "text": [
      "2023-09-18 17:42:32.479242: I tensorflow/tsl/cuda/cudart_stub.cc:28] Could not find cuda drivers on your machine, GPU will not be used.\n",
      "2023-09-18 17:42:32.511804: I tensorflow/tsl/cuda/cudart_stub.cc:28] Could not find cuda drivers on your machine, GPU will not be used.\n",
      "2023-09-18 17:42:32.512635: I tensorflow/core/platform/cpu_feature_guard.cc:182] This TensorFlow binary is optimized to use available CPU instructions in performance-critical operations.\n",
      "To enable the following instructions: AVX2 FMA, in other operations, rebuild TensorFlow with the appropriate compiler flags.\n",
      "2023-09-18 17:42:33.142350: W tensorflow/compiler/tf2tensorrt/utils/py_utils.cc:38] TF-TRT Warning: Could not find TensorRT\n"
     ]
    }
   ],
   "source": [
    "import pandas as pd\n",
    "import numpy as np\n",
    "import tensorflow as tf\n",
    "from tensorflow.keras import Sequential,layers\n",
    "from sklearn.model_selection import train_test_split\n",
    "import matplotlib.pyplot as plt\n",
    "from sklearn.metrics import accuracy_score"
   ]
  },
  {
   "cell_type": "code",
   "execution_count": 2,
   "id": "d3de1a60-f687-41ef-86ab-750efee3fbdd",
   "metadata": {},
   "outputs": [],
   "source": [
    "train = pd.read_csv('data/train.csv')"
   ]
  },
  {
   "cell_type": "code",
   "execution_count": 3,
   "id": "e22f742b-7a7b-48da-a9a7-22c210a3c1ba",
   "metadata": {},
   "outputs": [],
   "source": [
    "X = train.drop('label',axis=1)\n",
    "y = train['label']"
   ]
  },
  {
   "cell_type": "code",
   "execution_count": 4,
   "id": "14d6eeda-ad25-441d-b9b9-9ab4a9487ea3",
   "metadata": {},
   "outputs": [],
   "source": [
    "X_train,X_test,y_train,y_test = train_test_split(X,y,test_size=0.2,random_state=11)"
   ]
  },
  {
   "cell_type": "code",
   "execution_count": 5,
   "id": "5a450065-ae76-4077-9a37-a37402b6b674",
   "metadata": {},
   "outputs": [
    {
     "name": "stderr",
     "output_type": "stream",
     "text": [
      "2023-09-18 17:42:35.534431: I tensorflow/compiler/xla/stream_executor/cuda/cuda_gpu_executor.cc:995] successful NUMA node read from SysFS had negative value (-1), but there must be at least one NUMA node, so returning NUMA node zero. See more at https://github.com/torvalds/linux/blob/v6.0/Documentation/ABI/testing/sysfs-bus-pci#L344-L355\n",
      "2023-09-18 17:42:35.535352: W tensorflow/core/common_runtime/gpu/gpu_device.cc:1960] Cannot dlopen some GPU libraries. Please make sure the missing libraries mentioned above are installed properly if you would like to use GPU. Follow the guide at https://www.tensorflow.org/install/gpu for how to download and setup the required libraries for your platform.\n",
      "Skipping registering GPU devices...\n"
     ]
    }
   ],
   "source": [
    "model = Sequential([\n",
    "    layers.Dense(units=112,activation='relu'),\n",
    "    layers.BatchNormalization(),\n",
    "    layers.Dense(units=56,activation='relu'),\n",
    "    layers.BatchNormalization(),\n",
    "    layers.Dense(units=16,activation='relu'),\n",
    "    layers.BatchNormalization(),\n",
    "    layers.Dense(units=10,activation='sigmoid')\n",
    "])"
   ]
  },
  {
   "cell_type": "code",
   "execution_count": 6,
   "id": "dbcb66ee-e0ea-455b-a10a-3f388c75a4ad",
   "metadata": {},
   "outputs": [],
   "source": [
    "model.compile(optimizer='adam',loss='sparse_categorical_crossentropy',metrics=['accuracy'])"
   ]
  },
  {
   "cell_type": "code",
   "execution_count": null,
   "id": "2161b251-2be1-482a-b8f1-d5a0668f3c78",
   "metadata": {
    "scrolled": true
   },
   "outputs": [
    {
     "name": "stdout",
     "output_type": "stream",
     "text": [
      "Epoch 1/100\n",
      "735/735 [==============================] - 2s 2ms/step - loss: 0.5035 - accuracy: 0.8663 - val_loss: 0.1955 - val_accuracy: 0.9448\n",
      "Epoch 2/100\n",
      "735/735 [==============================] - 1s 2ms/step - loss: 0.1978 - accuracy: 0.9412 - val_loss: 0.1567 - val_accuracy: 0.9531\n",
      "Epoch 3/100\n",
      "735/735 [==============================] - 1s 2ms/step - loss: 0.1448 - accuracy: 0.9547 - val_loss: 0.1496 - val_accuracy: 0.9548\n",
      "Epoch 4/100\n",
      "735/735 [==============================] - 1s 2ms/step - loss: 0.1109 - accuracy: 0.9662 - val_loss: 0.1307 - val_accuracy: 0.9607\n",
      "Epoch 5/100\n",
      "735/735 [==============================] - 1s 1ms/step - loss: 0.0958 - accuracy: 0.9701 - val_loss: 0.1257 - val_accuracy: 0.9625\n",
      "Epoch 6/100\n",
      "735/735 [==============================] - 1s 1ms/step - loss: 0.0783 - accuracy: 0.9761 - val_loss: 0.1202 - val_accuracy: 0.9658\n",
      "Epoch 7/100\n",
      "735/735 [==============================] - 1s 1ms/step - loss: 0.0769 - accuracy: 0.9745 - val_loss: 0.1286 - val_accuracy: 0.9626\n",
      "Epoch 8/100\n",
      "735/735 [==============================] - 1s 1ms/step - loss: 0.0648 - accuracy: 0.9781 - val_loss: 0.1287 - val_accuracy: 0.9649\n",
      "Epoch 9/100\n",
      "735/735 [==============================] - 1s 1ms/step - loss: 0.0513 - accuracy: 0.9839 - val_loss: 0.1272 - val_accuracy: 0.9654\n",
      "Epoch 10/100\n",
      "735/735 [==============================] - 1s 2ms/step - loss: 0.0520 - accuracy: 0.9826 - val_loss: 0.1259 - val_accuracy: 0.9671\n",
      "Epoch 11/100\n",
      "735/735 [==============================] - 1s 2ms/step - loss: 0.0467 - accuracy: 0.9849 - val_loss: 0.1262 - val_accuracy: 0.9637\n",
      "Epoch 12/100\n",
      "735/735 [==============================] - 1s 2ms/step - loss: 0.0432 - accuracy: 0.9855 - val_loss: 0.1200 - val_accuracy: 0.9683\n",
      "Epoch 13/100\n",
      "735/735 [==============================] - 1s 2ms/step - loss: 0.0399 - accuracy: 0.9865 - val_loss: 0.1371 - val_accuracy: 0.9639\n",
      "Epoch 14/100\n",
      "735/735 [==============================] - 1s 2ms/step - loss: 0.0400 - accuracy: 0.9859 - val_loss: 0.1363 - val_accuracy: 0.9680\n",
      "Epoch 15/100\n",
      "735/735 [==============================] - 1s 2ms/step - loss: 0.0346 - accuracy: 0.9880 - val_loss: 0.1339 - val_accuracy: 0.9667\n",
      "Epoch 16/100\n",
      "735/735 [==============================] - 1s 2ms/step - loss: 0.0351 - accuracy: 0.9889 - val_loss: 0.1268 - val_accuracy: 0.9693\n",
      "Epoch 17/100\n",
      "735/735 [==============================] - 1s 2ms/step - loss: 0.0313 - accuracy: 0.9897 - val_loss: 0.1232 - val_accuracy: 0.9671\n",
      "Epoch 18/100\n",
      "735/735 [==============================] - 1s 2ms/step - loss: 0.0285 - accuracy: 0.9907 - val_loss: 0.1228 - val_accuracy: 0.9694\n",
      "Epoch 19/100\n",
      "735/735 [==============================] - 1s 1ms/step - loss: 0.0250 - accuracy: 0.9925 - val_loss: 0.1293 - val_accuracy: 0.9686\n",
      "Epoch 20/100\n",
      "735/735 [==============================] - 1s 1ms/step - loss: 0.0306 - accuracy: 0.9897 - val_loss: 0.1422 - val_accuracy: 0.9682\n",
      "Epoch 21/100\n",
      "735/735 [==============================] - 1s 2ms/step - loss: 0.0251 - accuracy: 0.9905 - val_loss: 0.1375 - val_accuracy: 0.9674\n",
      "Epoch 22/100\n",
      "735/735 [==============================] - 1s 2ms/step - loss: 0.0248 - accuracy: 0.9911 - val_loss: 0.1345 - val_accuracy: 0.9691\n",
      "Epoch 23/100\n",
      "735/735 [==============================] - 1s 2ms/step - loss: 0.0232 - accuracy: 0.9918 - val_loss: 0.1294 - val_accuracy: 0.9699\n",
      "Epoch 24/100\n",
      "735/735 [==============================] - 1s 2ms/step - loss: 0.0226 - accuracy: 0.9924 - val_loss: 0.1324 - val_accuracy: 0.9686\n",
      "Epoch 25/100\n",
      "735/735 [==============================] - 1s 2ms/step - loss: 0.0229 - accuracy: 0.9923 - val_loss: 0.1282 - val_accuracy: 0.9704\n",
      "Epoch 26/100\n",
      "735/735 [==============================] - 1s 2ms/step - loss: 0.0229 - accuracy: 0.9926 - val_loss: 0.1534 - val_accuracy: 0.9668\n",
      "Epoch 27/100\n",
      "735/735 [==============================] - 1s 1ms/step - loss: 0.0209 - accuracy: 0.9929 - val_loss: 0.1329 - val_accuracy: 0.9712\n",
      "Epoch 28/100\n",
      "735/735 [==============================] - 1s 2ms/step - loss: 0.0204 - accuracy: 0.9934 - val_loss: 0.1440 - val_accuracy: 0.9695\n",
      "Epoch 29/100\n",
      "735/735 [==============================] - 1s 2ms/step - loss: 0.0174 - accuracy: 0.9940 - val_loss: 0.1314 - val_accuracy: 0.9718\n",
      "Epoch 30/100\n",
      "735/735 [==============================] - 1s 2ms/step - loss: 0.0180 - accuracy: 0.9940 - val_loss: 0.1463 - val_accuracy: 0.9668\n",
      "Epoch 31/100\n",
      "735/735 [==============================] - 1s 2ms/step - loss: 0.0220 - accuracy: 0.9926 - val_loss: 0.1354 - val_accuracy: 0.9718\n",
      "Epoch 32/100\n",
      "735/735 [==============================] - 1s 2ms/step - loss: 0.0154 - accuracy: 0.9948 - val_loss: 0.1323 - val_accuracy: 0.9711\n",
      "Epoch 33/100\n",
      "735/735 [==============================] - 1s 2ms/step - loss: 0.0184 - accuracy: 0.9945 - val_loss: 0.1359 - val_accuracy: 0.9707\n",
      "Epoch 34/100\n",
      "735/735 [==============================] - 1s 2ms/step - loss: 0.0194 - accuracy: 0.9935 - val_loss: 0.1256 - val_accuracy: 0.9733\n",
      "Epoch 35/100\n",
      "735/735 [==============================] - 1s 2ms/step - loss: 0.0132 - accuracy: 0.9955 - val_loss: 0.1350 - val_accuracy: 0.9719\n",
      "Epoch 36/100\n",
      "735/735 [==============================] - 1s 2ms/step - loss: 0.0157 - accuracy: 0.9951 - val_loss: 0.1294 - val_accuracy: 0.9729\n",
      "Epoch 37/100\n",
      "735/735 [==============================] - 1s 1ms/step - loss: 0.0147 - accuracy: 0.9951 - val_loss: 0.1389 - val_accuracy: 0.9708\n",
      "Epoch 38/100\n",
      "735/735 [==============================] - 1s 1ms/step - loss: 0.0153 - accuracy: 0.9951 - val_loss: 0.1312 - val_accuracy: 0.9730\n",
      "Epoch 39/100\n",
      "735/735 [==============================] - 1s 2ms/step - loss: 0.0138 - accuracy: 0.9957 - val_loss: 0.1345 - val_accuracy: 0.9730\n",
      "Epoch 40/100\n",
      "735/735 [==============================] - 1s 2ms/step - loss: 0.0155 - accuracy: 0.9949 - val_loss: 0.1376 - val_accuracy: 0.9730\n",
      "Epoch 41/100\n",
      "735/735 [==============================] - 1s 2ms/step - loss: 0.0147 - accuracy: 0.9953 - val_loss: 0.1358 - val_accuracy: 0.9742\n",
      "Epoch 42/100\n",
      "735/735 [==============================] - 1s 2ms/step - loss: 0.0106 - accuracy: 0.9964 - val_loss: 0.1323 - val_accuracy: 0.9737\n",
      "Epoch 43/100\n",
      "735/735 [==============================] - 1s 2ms/step - loss: 0.0138 - accuracy: 0.9955 - val_loss: 0.1362 - val_accuracy: 0.9724\n",
      "Epoch 44/100\n",
      "735/735 [==============================] - 1s 1ms/step - loss: 0.0118 - accuracy: 0.9958 - val_loss: 0.1292 - val_accuracy: 0.9741\n",
      "Epoch 45/100\n",
      "735/735 [==============================] - 1s 2ms/step - loss: 0.0109 - accuracy: 0.9965 - val_loss: 0.1527 - val_accuracy: 0.9699\n",
      "Epoch 46/100\n",
      "735/735 [==============================] - 1s 2ms/step - loss: 0.0100 - accuracy: 0.9966 - val_loss: 0.1433 - val_accuracy: 0.9700\n",
      "Epoch 47/100\n",
      "735/735 [==============================] - 1s 2ms/step - loss: 0.0136 - accuracy: 0.9960 - val_loss: 0.1663 - val_accuracy: 0.9700\n",
      "Epoch 48/100\n",
      "735/735 [==============================] - 1s 2ms/step - loss: 0.0114 - accuracy: 0.9957 - val_loss: 0.1564 - val_accuracy: 0.9707\n",
      "Epoch 49/100\n",
      "735/735 [==============================] - 1s 2ms/step - loss: 0.0126 - accuracy: 0.9954 - val_loss: 0.1522 - val_accuracy: 0.9694\n",
      "Epoch 50/100\n",
      "735/735 [==============================] - 1s 1ms/step - loss: 0.0131 - accuracy: 0.9955 - val_loss: 0.1423 - val_accuracy: 0.9714\n",
      "Epoch 51/100\n",
      "735/735 [==============================] - 1s 2ms/step - loss: 0.0094 - accuracy: 0.9973 - val_loss: 0.1444 - val_accuracy: 0.9728\n",
      "Epoch 52/100\n",
      "735/735 [==============================] - 1s 2ms/step - loss: 0.0119 - accuracy: 0.9960 - val_loss: 0.1436 - val_accuracy: 0.9733\n",
      "Epoch 53/100\n",
      "735/735 [==============================] - 1s 1ms/step - loss: 0.0081 - accuracy: 0.9974 - val_loss: 0.1410 - val_accuracy: 0.9716\n",
      "Epoch 54/100\n",
      "735/735 [==============================] - 1s 2ms/step - loss: 0.0094 - accuracy: 0.9967 - val_loss: 0.1448 - val_accuracy: 0.9718\n",
      "Epoch 55/100\n",
      "735/735 [==============================] - 1s 2ms/step - loss: 0.0110 - accuracy: 0.9966 - val_loss: 0.1517 - val_accuracy: 0.9713\n",
      "Epoch 56/100\n",
      "735/735 [==============================] - 1s 2ms/step - loss: 0.0093 - accuracy: 0.9968 - val_loss: 0.1406 - val_accuracy: 0.9719\n",
      "Epoch 57/100\n",
      "735/735 [==============================] - 1s 2ms/step - loss: 0.0087 - accuracy: 0.9968 - val_loss: 0.1434 - val_accuracy: 0.9711\n",
      "Epoch 58/100\n",
      "735/735 [==============================] - 1s 2ms/step - loss: 0.0090 - accuracy: 0.9975 - val_loss: 0.1407 - val_accuracy: 0.9743\n",
      "Epoch 59/100\n",
      "735/735 [==============================] - 1s 2ms/step - loss: 0.0104 - accuracy: 0.9966 - val_loss: 0.1433 - val_accuracy: 0.9731\n",
      "Epoch 60/100\n",
      "735/735 [==============================] - 1s 2ms/step - loss: 0.0079 - accuracy: 0.9973 - val_loss: 0.1574 - val_accuracy: 0.9728\n",
      "Epoch 61/100\n",
      "735/735 [==============================] - 1s 2ms/step - loss: 0.0089 - accuracy: 0.9973 - val_loss: 0.1487 - val_accuracy: 0.9712\n",
      "Epoch 62/100\n",
      "735/735 [==============================] - 1s 2ms/step - loss: 0.0106 - accuracy: 0.9964 - val_loss: 0.1609 - val_accuracy: 0.9713\n",
      "Epoch 63/100\n",
      "735/735 [==============================] - 1s 2ms/step - loss: 0.0077 - accuracy: 0.9977 - val_loss: 0.1382 - val_accuracy: 0.9738\n",
      "Epoch 64/100\n",
      "735/735 [==============================] - 1s 2ms/step - loss: 0.0097 - accuracy: 0.9971 - val_loss: 0.1415 - val_accuracy: 0.9719\n",
      "Epoch 65/100\n",
      "735/735 [==============================] - 1s 2ms/step - loss: 0.0107 - accuracy: 0.9962 - val_loss: 0.1581 - val_accuracy: 0.9728\n",
      "Epoch 66/100\n",
      "735/735 [==============================] - 1s 1ms/step - loss: 0.0133 - accuracy: 0.9953 - val_loss: 0.1559 - val_accuracy: 0.9695\n",
      "Epoch 67/100\n",
      "735/735 [==============================] - 1s 1ms/step - loss: 0.0065 - accuracy: 0.9977 - val_loss: 0.1453 - val_accuracy: 0.9746\n",
      "Epoch 68/100\n",
      "735/735 [==============================] - 1s 1ms/step - loss: 0.0072 - accuracy: 0.9976 - val_loss: 0.1486 - val_accuracy: 0.9721\n",
      "Epoch 69/100\n",
      "735/735 [==============================] - 1s 2ms/step - loss: 0.0068 - accuracy: 0.9978 - val_loss: 0.1457 - val_accuracy: 0.9738\n",
      "Epoch 70/100\n",
      "735/735 [==============================] - 1s 2ms/step - loss: 0.0095 - accuracy: 0.9967 - val_loss: 0.1465 - val_accuracy: 0.9726\n",
      "Epoch 71/100\n",
      "735/735 [==============================] - 1s 2ms/step - loss: 0.0076 - accuracy: 0.9974 - val_loss: 0.1547 - val_accuracy: 0.9723\n",
      "Epoch 72/100\n",
      "735/735 [==============================] - 1s 2ms/step - loss: 0.0057 - accuracy: 0.9981 - val_loss: 0.1590 - val_accuracy: 0.9707\n",
      "Epoch 73/100\n",
      "735/735 [==============================] - 1s 2ms/step - loss: 0.0090 - accuracy: 0.9970 - val_loss: 0.1541 - val_accuracy: 0.9719\n",
      "Epoch 74/100\n",
      "735/735 [==============================] - 1s 2ms/step - loss: 0.0091 - accuracy: 0.9969 - val_loss: 0.1495 - val_accuracy: 0.9725\n",
      "Epoch 75/100\n",
      "735/735 [==============================] - 1s 1ms/step - loss: 0.0073 - accuracy: 0.9973 - val_loss: 0.1516 - val_accuracy: 0.9745\n",
      "Epoch 76/100\n",
      "735/735 [==============================] - 1s 2ms/step - loss: 0.0092 - accuracy: 0.9967 - val_loss: 0.1580 - val_accuracy: 0.9718\n",
      "Epoch 77/100\n",
      "735/735 [==============================] - 1s 2ms/step - loss: 0.0087 - accuracy: 0.9972 - val_loss: 0.1664 - val_accuracy: 0.9721\n",
      "Epoch 78/100\n",
      "735/735 [==============================] - 1s 2ms/step - loss: 0.0084 - accuracy: 0.9973 - val_loss: 0.1557 - val_accuracy: 0.9716\n",
      "Epoch 79/100\n",
      "735/735 [==============================] - 1s 2ms/step - loss: 0.0093 - accuracy: 0.9968 - val_loss: 0.1506 - val_accuracy: 0.9729\n",
      "Epoch 80/100\n",
      "735/735 [==============================] - 1s 2ms/step - loss: 0.0076 - accuracy: 0.9975 - val_loss: 0.1501 - val_accuracy: 0.9731\n",
      "Epoch 81/100\n",
      "735/735 [==============================] - 1s 2ms/step - loss: 0.0070 - accuracy: 0.9975 - val_loss: 0.1650 - val_accuracy: 0.9723\n",
      "Epoch 82/100\n",
      "735/735 [==============================] - 1s 2ms/step - loss: 0.0063 - accuracy: 0.9980 - val_loss: 0.1570 - val_accuracy: 0.9726\n",
      "Epoch 83/100\n",
      "735/735 [==============================] - 1s 2ms/step - loss: 0.0053 - accuracy: 0.9983 - val_loss: 0.1516 - val_accuracy: 0.9727\n",
      "Epoch 84/100\n",
      "735/735 [==============================] - 1s 1ms/step - loss: 0.0078 - accuracy: 0.9975 - val_loss: 0.1538 - val_accuracy: 0.9719\n",
      "Epoch 85/100\n",
      "735/735 [==============================] - 1s 1ms/step - loss: 0.0079 - accuracy: 0.9972 - val_loss: 0.1558 - val_accuracy: 0.9722\n",
      "Epoch 86/100\n",
      "735/735 [==============================] - 1s 1ms/step - loss: 0.0072 - accuracy: 0.9977 - val_loss: 0.1606 - val_accuracy: 0.9718\n",
      "Epoch 87/100\n",
      "735/735 [==============================] - 1s 1ms/step - loss: 0.0066 - accuracy: 0.9977 - val_loss: 0.1722 - val_accuracy: 0.9691\n",
      "Epoch 88/100\n",
      "735/735 [==============================] - 1s 2ms/step - loss: 0.0075 - accuracy: 0.9974 - val_loss: 0.1632 - val_accuracy: 0.9720\n",
      "Epoch 89/100\n",
      "735/735 [==============================] - 1s 2ms/step - loss: 0.0058 - accuracy: 0.9981 - val_loss: 0.1575 - val_accuracy: 0.9713\n",
      "Epoch 90/100\n",
      "735/735 [==============================] - 1s 2ms/step - loss: 0.0083 - accuracy: 0.9972 - val_loss: 0.1623 - val_accuracy: 0.9720\n",
      "Epoch 91/100\n",
      "204/735 [=======>......................] - ETA: 0s - loss: 0.0087 - accuracy: 0.9971"
     ]
    }
   ],
   "source": [
    "out = model.fit(X_train,y_train,epochs=100,validation_split=0.3)"
   ]
  },
  {
   "cell_type": "code",
   "execution_count": null,
   "id": "3f14df70-16c4-4d3d-ae9f-f141bd2cd399",
   "metadata": {},
   "outputs": [],
   "source": [
    "plt.plot(out.history['accuracy'])\n",
    "plt.plot(out.history['val_accuracy'])\n",
    "plt.title('Model Accuracy')\n",
    "plt.xlabel('Epochs')\n",
    "plt.ylabel('Accuracy')\n",
    "plt.ylim(0.0,1.0)\n",
    "plt.legend(['Train', 'Test'])\n",
    "plt.show()"
   ]
  },
  {
   "cell_type": "code",
   "execution_count": null,
   "id": "baf747fb-fd7e-4897-94e9-06988b7b7e89",
   "metadata": {},
   "outputs": [],
   "source": [
    "ans = model.predict(X_test).argmax(axis=1)"
   ]
  },
  {
   "cell_type": "code",
   "execution_count": null,
   "id": "06e1e2fd-3e84-4a4b-9f47-a7a96bcc937c",
   "metadata": {},
   "outputs": [],
   "source": [
    "ans"
   ]
  },
  {
   "cell_type": "code",
   "execution_count": null,
   "id": "4940562e-59ac-45d1-82ff-1bd579a470d1",
   "metadata": {},
   "outputs": [],
   "source": [
    "score = accuracy_score(y_pred=ans,y_true=y_test)\n",
    "score"
   ]
  },
  {
   "cell_type": "code",
   "execution_count": null,
   "id": "35f5f162-338a-485a-b9c3-86cb13996596",
   "metadata": {},
   "outputs": [],
   "source": []
  }
 ],
 "metadata": {
  "kernelspec": {
   "display_name": "Python 3 (ipykernel)",
   "language": "python",
   "name": "python3"
  },
  "language_info": {
   "codemirror_mode": {
    "name": "ipython",
    "version": 3
   },
   "file_extension": ".py",
   "mimetype": "text/x-python",
   "name": "python",
   "nbconvert_exporter": "python",
   "pygments_lexer": "ipython3",
   "version": "3.11.5"
  }
 },
 "nbformat": 4,
 "nbformat_minor": 5
}
